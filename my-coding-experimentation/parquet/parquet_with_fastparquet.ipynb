{
 "cells": [
  {
   "cell_type": "markdown",
   "metadata": {},
   "source": [
    "## Install fastparquet"
   ]
  },
  {
   "cell_type": "code",
   "execution_count": 1,
   "metadata": {},
   "outputs": [
    {
     "name": "stdout",
     "output_type": "stream",
     "text": [
      "Collecting fastparquet\n",
      "\u001b[?25l  Downloading https://files.pythonhosted.org/packages/58/49/dccb790fa17ab3fbf84a6b848050083c7a1899e9586000e34e3e4fbf5538/fastparquet-0.3.2.tar.gz (151kB)\n",
      "\u001b[K     |████████████████████████████████| 153kB 863kB/s eta 0:00:01\n",
      "\u001b[?25hRequirement already satisfied: pandas>=0.19 in /usr/local/lib/python3.7/site-packages (from fastparquet) (0.24.1)\n",
      "Collecting numba>=0.28 (from fastparquet)\n",
      "\u001b[?25l  Downloading https://files.pythonhosted.org/packages/0e/6e/e3bd3b844ee2dd815c313807a6030706845ffa6387e95d20e2eb79370036/numba-0.46.0-cp37-cp37m-macosx_10_9_x86_64.whl (2.0MB)\n",
      "\u001b[K     |████████████████████████████████| 2.0MB 1.7MB/s eta 0:00:01\n",
      "\u001b[?25hRequirement already satisfied: numpy>=1.11 in /usr/local/lib/python3.7/site-packages (from fastparquet) (1.16.1)\n",
      "Collecting thrift>=0.11.0 (from fastparquet)\n",
      "\u001b[?25l  Downloading https://files.pythonhosted.org/packages/c6/b4/510617906f8e0c5660e7d96fbc5585113f83ad547a3989b80297ac72a74c/thrift-0.11.0.tar.gz (52kB)\n",
      "\u001b[K     |████████████████████████████████| 61kB 4.3MB/s eta 0:00:011\n",
      "\u001b[?25hRequirement already satisfied: six in /usr/local/lib/python3.7/site-packages (from fastparquet) (1.12.0)\n",
      "Requirement already satisfied: python-dateutil>=2.5.0 in /usr/local/lib/python3.7/site-packages (from pandas>=0.19->fastparquet) (2.8.0)\n",
      "Requirement already satisfied: pytz>=2011k in /usr/local/lib/python3.7/site-packages (from pandas>=0.19->fastparquet) (2018.9)\n",
      "Collecting llvmlite>=0.30.0dev0 (from numba>=0.28->fastparquet)\n",
      "\u001b[?25l  Downloading https://files.pythonhosted.org/packages/ca/ba/1b1e5c4c707c082b1125c30f93887b827ee3db6a2e86184532fe529d31bd/llvmlite-0.30.0-cp37-cp37m-macosx_10_9_x86_64.whl (15.9MB)\n",
      "\u001b[K     |████████████████████████████████| 15.9MB 9.4MB/s eta 0:00:01     |█████████████████████           | 10.5MB 5.6MB/s eta 0:00:01\n",
      "\u001b[?25hBuilding wheels for collected packages: fastparquet, thrift\n",
      "  Building wheel for fastparquet (setup.py) ... \u001b[?25ldone\n",
      "\u001b[?25h  Created wheel for fastparquet: filename=fastparquet-0.3.2-cp37-cp37m-macosx_10_13_x86_64.whl size=183357 sha256=444f1b508eabc1e091f1c15119a43bacf81847c75b58ef7af821e94da8e7d0b9\n",
      "  Stored in directory: /Users/sharattadimalla/Library/Caches/pip/wheels/b9/36/13/01416a760ddcab0eb8281ec9c9ffcbed945c9b831647c8b904\n",
      "  Building wheel for thrift (setup.py) ... \u001b[?25ldone\n",
      "\u001b[?25h  Created wheel for thrift: filename=thrift-0.11.0-cp37-cp37m-macosx_10_13_x86_64.whl size=156167 sha256=3831e69ac398c15db4b236fb4a29bdae2bcc3822551a20ebe2bbc9074870688e\n",
      "  Stored in directory: /Users/sharattadimalla/Library/Caches/pip/wheels/be/36/81/0f93ba89a1cb7887c91937948519840a72c0ffdd57cac0ae8f\n",
      "Successfully built fastparquet thrift\n",
      "Installing collected packages: llvmlite, numba, thrift, fastparquet\n",
      "Successfully installed fastparquet-0.3.2 llvmlite-0.30.0 numba-0.46.0 thrift-0.11.0\n",
      "\u001b[33mWARNING: You are using pip version 19.2.3, however version 19.3.1 is available.\n",
      "You should consider upgrading via the 'pip install --upgrade pip' command.\u001b[0m\n",
      "Note: you may need to restart the kernel to use updated packages.\n"
     ]
    }
   ],
   "source": [
    "pip install fastparquet"
   ]
  },
  {
   "cell_type": "markdown",
   "metadata": {},
   "source": [
    "## Setup flatten data"
   ]
  },
  {
   "cell_type": "code",
   "execution_count": 2,
   "metadata": {},
   "outputs": [],
   "source": [
    "import random\n",
    "import uuid\n",
    "import json\n",
    "\n",
    "def gen_sample_acct():\n",
    "    return dict(acct_id=random.randint(1,99999999),acct_feature1=str(uuid.uuid4()))\n",
    "\n",
    "def gen_sample_accounts(num_records):\n",
    "    accts = [gen_sample_acct() for i in range(num_records)]\n",
    "    return accts\n",
    "\n",
    "sample_accounts = gen_sample_accounts(10)"
   ]
  },
  {
   "cell_type": "markdown",
   "metadata": {},
   "source": [
    "## Create pandas dataframe"
   ]
  },
  {
   "cell_type": "code",
   "execution_count": 3,
   "metadata": {},
   "outputs": [],
   "source": [
    "import pandas as pd\n",
    "df = pd.DataFrame(sample_accounts)"
   ]
  },
  {
   "cell_type": "code",
   "execution_count": 4,
   "metadata": {},
   "outputs": [
    {
     "data": {
      "text/html": [
       "<div>\n",
       "<style scoped>\n",
       "    .dataframe tbody tr th:only-of-type {\n",
       "        vertical-align: middle;\n",
       "    }\n",
       "\n",
       "    .dataframe tbody tr th {\n",
       "        vertical-align: top;\n",
       "    }\n",
       "\n",
       "    .dataframe thead th {\n",
       "        text-align: right;\n",
       "    }\n",
       "</style>\n",
       "<table border=\"1\" class=\"dataframe\">\n",
       "  <thead>\n",
       "    <tr style=\"text-align: right;\">\n",
       "      <th></th>\n",
       "      <th>acct_feature1</th>\n",
       "      <th>acct_id</th>\n",
       "    </tr>\n",
       "  </thead>\n",
       "  <tbody>\n",
       "    <tr>\n",
       "      <th>0</th>\n",
       "      <td>45e15cf3-e8df-4036-b181-76f231ec776c</td>\n",
       "      <td>64881132</td>\n",
       "    </tr>\n",
       "    <tr>\n",
       "      <th>1</th>\n",
       "      <td>e7653a0b-f2f8-4000-b726-e882d2594c36</td>\n",
       "      <td>61232087</td>\n",
       "    </tr>\n",
       "    <tr>\n",
       "      <th>2</th>\n",
       "      <td>43ef3747-3b74-4918-acaf-6116f22d6998</td>\n",
       "      <td>25430820</td>\n",
       "    </tr>\n",
       "    <tr>\n",
       "      <th>3</th>\n",
       "      <td>c6521705-2af2-4aa7-bd9c-fe39dcdd5f40</td>\n",
       "      <td>56853772</td>\n",
       "    </tr>\n",
       "    <tr>\n",
       "      <th>4</th>\n",
       "      <td>ed1ed83d-a2bc-48ac-a11a-099ed020577b</td>\n",
       "      <td>11622854</td>\n",
       "    </tr>\n",
       "  </tbody>\n",
       "</table>\n",
       "</div>"
      ],
      "text/plain": [
       "                          acct_feature1   acct_id\n",
       "0  45e15cf3-e8df-4036-b181-76f231ec776c  64881132\n",
       "1  e7653a0b-f2f8-4000-b726-e882d2594c36  61232087\n",
       "2  43ef3747-3b74-4918-acaf-6116f22d6998  25430820\n",
       "3  c6521705-2af2-4aa7-bd9c-fe39dcdd5f40  56853772\n",
       "4  ed1ed83d-a2bc-48ac-a11a-099ed020577b  11622854"
      ]
     },
     "execution_count": 4,
     "metadata": {},
     "output_type": "execute_result"
    }
   ],
   "source": [
    "df.head()"
   ]
  },
  {
   "cell_type": "markdown",
   "metadata": {},
   "source": [
    "## Write flatten data into parquet using fastparquet"
   ]
  },
  {
   "cell_type": "code",
   "execution_count": 5,
   "metadata": {},
   "outputs": [],
   "source": [
    "from fastparquet import write\n",
    "write('sample_data_fastparquet.parquet', df)"
   ]
  },
  {
   "cell_type": "code",
   "execution_count": 6,
   "metadata": {},
   "outputs": [
    {
     "name": "stdout",
     "output_type": "stream",
     "text": [
      "-rw-r--r--  1 sharattadimalla  staff   1530 Nov 11 11:22 sample_data_fastparquet.parquet\n"
     ]
    }
   ],
   "source": [
    "%%sh\n",
    "ls -lt | grep -i \"sample_data_\""
   ]
  },
  {
   "cell_type": "markdown",
   "metadata": {},
   "source": [
    "## Create a nested dataset"
   ]
  },
  {
   "cell_type": "code",
   "execution_count": 7,
   "metadata": {},
   "outputs": [],
   "source": [
    "def gen_sample_app():\n",
    "    return dict(app_id=random.randint(1,99999999),app_feature1=str(uuid.uuid4()))\n",
    "\n",
    "def gen_sample_apps(num_records):\n",
    "    apps = [gen_sample_app() for i in range(num_records)]\n",
    "    return apps\n",
    "\n",
    "def gen_sample_customers(num_records):\n",
    "    customers = [dict(cust_id=random.randint(1,99999999),\n",
    "                      cust_feature1=str(uuid.uuid4()),\n",
    "                      accts=gen_sample_accounts(num_records),\n",
    "                      apps=gen_sample_apps(num_records)\n",
    "                      ) for i in range(num_records)]\n",
    "    return customers\n",
    "\n",
    "sample_customers = gen_sample_customers(10)"
   ]
  },
  {
   "cell_type": "markdown",
   "metadata": {},
   "source": [
    "## Create a pandas dataframe"
   ]
  },
  {
   "cell_type": "code",
   "execution_count": 9,
   "metadata": {},
   "outputs": [
    {
     "data": {
      "text/html": [
       "<div>\n",
       "<style scoped>\n",
       "    .dataframe tbody tr th:only-of-type {\n",
       "        vertical-align: middle;\n",
       "    }\n",
       "\n",
       "    .dataframe tbody tr th {\n",
       "        vertical-align: top;\n",
       "    }\n",
       "\n",
       "    .dataframe thead th {\n",
       "        text-align: right;\n",
       "    }\n",
       "</style>\n",
       "<table border=\"1\" class=\"dataframe\">\n",
       "  <thead>\n",
       "    <tr style=\"text-align: right;\">\n",
       "      <th></th>\n",
       "      <th>accts</th>\n",
       "      <th>apps</th>\n",
       "      <th>cust_feature1</th>\n",
       "      <th>cust_id</th>\n",
       "    </tr>\n",
       "  </thead>\n",
       "  <tbody>\n",
       "    <tr>\n",
       "      <th>0</th>\n",
       "      <td>[{'acct_id': 24239356, 'acct_feature1': 'ea05f...</td>\n",
       "      <td>[{'app_id': 1415442, 'app_feature1': '2e501cd6...</td>\n",
       "      <td>fcfd7727-9da7-43be-9517-b3c5b5e1ae64</td>\n",
       "      <td>74047523</td>\n",
       "    </tr>\n",
       "    <tr>\n",
       "      <th>1</th>\n",
       "      <td>[{'acct_id': 17291389, 'acct_feature1': '3a740...</td>\n",
       "      <td>[{'app_id': 75577862, 'app_feature1': '9ca29d9...</td>\n",
       "      <td>ce6443b4-f505-4768-9844-d892c8b3b0fb</td>\n",
       "      <td>24848578</td>\n",
       "    </tr>\n",
       "    <tr>\n",
       "      <th>2</th>\n",
       "      <td>[{'acct_id': 82829924, 'acct_feature1': '2855c...</td>\n",
       "      <td>[{'app_id': 28552607, 'app_feature1': '735019d...</td>\n",
       "      <td>1cdbe438-221e-4ef4-b1ea-eba0364fa1bb</td>\n",
       "      <td>88979656</td>\n",
       "    </tr>\n",
       "    <tr>\n",
       "      <th>3</th>\n",
       "      <td>[{'acct_id': 25556498, 'acct_feature1': 'c1a7d...</td>\n",
       "      <td>[{'app_id': 78932919, 'app_feature1': 'f0d6d01...</td>\n",
       "      <td>634ab3fb-5908-45de-8034-77fba8945e22</td>\n",
       "      <td>7040609</td>\n",
       "    </tr>\n",
       "    <tr>\n",
       "      <th>4</th>\n",
       "      <td>[{'acct_id': 58124673, 'acct_feature1': 'af620...</td>\n",
       "      <td>[{'app_id': 37376563, 'app_feature1': '41dda91...</td>\n",
       "      <td>982fc88d-2560-47bd-a0d9-1f0e968ae722</td>\n",
       "      <td>99016535</td>\n",
       "    </tr>\n",
       "  </tbody>\n",
       "</table>\n",
       "</div>"
      ],
      "text/plain": [
       "                                               accts  \\\n",
       "0  [{'acct_id': 24239356, 'acct_feature1': 'ea05f...   \n",
       "1  [{'acct_id': 17291389, 'acct_feature1': '3a740...   \n",
       "2  [{'acct_id': 82829924, 'acct_feature1': '2855c...   \n",
       "3  [{'acct_id': 25556498, 'acct_feature1': 'c1a7d...   \n",
       "4  [{'acct_id': 58124673, 'acct_feature1': 'af620...   \n",
       "\n",
       "                                                apps  \\\n",
       "0  [{'app_id': 1415442, 'app_feature1': '2e501cd6...   \n",
       "1  [{'app_id': 75577862, 'app_feature1': '9ca29d9...   \n",
       "2  [{'app_id': 28552607, 'app_feature1': '735019d...   \n",
       "3  [{'app_id': 78932919, 'app_feature1': 'f0d6d01...   \n",
       "4  [{'app_id': 37376563, 'app_feature1': '41dda91...   \n",
       "\n",
       "                          cust_feature1   cust_id  \n",
       "0  fcfd7727-9da7-43be-9517-b3c5b5e1ae64  74047523  \n",
       "1  ce6443b4-f505-4768-9844-d892c8b3b0fb  24848578  \n",
       "2  1cdbe438-221e-4ef4-b1ea-eba0364fa1bb  88979656  \n",
       "3  634ab3fb-5908-45de-8034-77fba8945e22   7040609  \n",
       "4  982fc88d-2560-47bd-a0d9-1f0e968ae722  99016535  "
      ]
     },
     "execution_count": 9,
     "metadata": {},
     "output_type": "execute_result"
    }
   ],
   "source": [
    "import pandas as pd\n",
    "df_nested = pd.DataFrame(sample_customers)\n",
    "df_nested.head()"
   ]
  },
  {
   "cell_type": "code",
   "execution_count": 10,
   "metadata": {},
   "outputs": [],
   "source": [
    "write('sample_nested_data_fastparquet.parquet', df_nested)"
   ]
  },
  {
   "cell_type": "code",
   "execution_count": 11,
   "metadata": {},
   "outputs": [
    {
     "name": "stdout",
     "output_type": "stream",
     "text": [
      "-rw-r--r--  1 sharattadimalla  staff  17854 Nov 11 11:30 sample_nested_data_fastparquet.parquet\n"
     ]
    }
   ],
   "source": [
    "%%sh\n",
    "ls -lt | grep -i \"sample_nested_*\""
   ]
  },
  {
   "cell_type": "code",
   "execution_count": 12,
   "metadata": {},
   "outputs": [
    {
     "name": "stdout",
     "output_type": "stream",
     "text": [
      "message schema {\n",
      "  optional binary accts (JSON);\n",
      "  optional binary apps (JSON);\n",
      "  optional binary cust_feature1 (UTF8);\n",
      "  optional int64 cust_id;\n",
      "}\n",
      "\n"
     ]
    }
   ],
   "source": [
    "%%sh\n",
    "parquet-tools schema sample_nested_data_fastparquet.parquet"
   ]
  },
  {
   "cell_type": "code",
   "execution_count": null,
   "metadata": {},
   "outputs": [],
   "source": []
  }
 ],
 "metadata": {
  "kernelspec": {
   "display_name": "Python 3",
   "language": "python",
   "name": "python3"
  },
  "language_info": {
   "codemirror_mode": {
    "name": "ipython",
    "version": 3
   },
   "file_extension": ".py",
   "mimetype": "text/x-python",
   "name": "python",
   "nbconvert_exporter": "python",
   "pygments_lexer": "ipython3",
   "version": "3.7.0"
  }
 },
 "nbformat": 4,
 "nbformat_minor": 2
}

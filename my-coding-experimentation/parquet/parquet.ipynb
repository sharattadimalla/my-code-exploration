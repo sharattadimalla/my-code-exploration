{
 "cells": [
  {
   "cell_type": "markdown",
   "metadata": {},
   "source": [
    "# Apache Parquet"
   ]
  },
  {
   "cell_type": "markdown",
   "metadata": {},
   "source": [
    "* is a `columnar data format`\n",
    "* `independent of data processing framework, data model or programming language`\n",
    "* uses `record shredding and assembly` algorithm\n",
    "* supports various `compression and encoding` schemes\n",
    "* parquet format supports `nested data`"
   ]
  },
  {
   "cell_type": "markdown",
   "metadata": {},
   "source": [
    "## Parquet file structure\n",
    "\n",
    "* A parquet file consists of one or more `row groups`\n",
    "* A row group contains exactly one `one column chunk` per column\n",
    "* A column chunk contains one or more pages"
   ]
  },
  {
   "cell_type": "markdown",
   "metadata": {},
   "source": [
    "## Metadata\n",
    "\n",
    "* File metadata\n",
    "* Column Chunk metadata\n",
    "* page header metadata"
   ]
  },
  {
   "cell_type": "markdown",
   "metadata": {},
   "source": [
    "## Data type\n",
    "\n",
    "* The types supported by the parquet file format are minimal, how the types effect disk storage?\n",
    "* BOOLEAN: 1 bit boolean\n",
    "* INT32: 32 bit signed ints\n",
    "* INT64: 64 bit signed ints\n",
    "* INT96: 96 bit signed ints\n",
    "* FLOAT: IEEE 32-bit floating point values\n",
    "* DOUBLE: IEEE 64-bit floating point values\n",
    "* BYTE_ARRAY: arbitrarily long byte arrays."
   ]
  },
  {
   "cell_type": "markdown",
   "metadata": {},
   "source": [
    "## Key Notes\n",
    "* 2 libraries that support writing parquet files - **pyarrow** and **fastparquet**\n",
    "* Both of them don't support nested data\n",
    "    * [fastparquet nested data issue](https://github.com/dask/fastparquet/issues/272)\n",
    "    * [pyarrow nested data issue](https://issues.apache.org/jira/browse/ARROW-1644?src=confmacro)\n",
    "* **pyspark.sql** uses py4j which runs on JVM to generate nested data. [Reference](https://stackoverflow.com/questions/32940416/methods-for-writing-parquet-files-using-python)"
   ]
  },
  {
   "cell_type": "markdown",
   "metadata": {},
   "source": [
    "## Using pyspark to Write/Read parquet"
   ]
  },
  {
   "cell_type": "markdown",
   "metadata": {},
   "source": [
    "## Setup pyspark python"
   ]
  },
  {
   "cell_type": "code",
   "execution_count": 1,
   "metadata": {},
   "outputs": [],
   "source": [
    "%%sh\n",
    "export PYSPARK_PYTHON=$(which python3)\n",
    "export PYSPARK_DRIVER_PYTHON=$(which python3)"
   ]
  },
  {
   "cell_type": "code",
   "execution_count": 2,
   "metadata": {},
   "outputs": [],
   "source": [
    "from pyspark.sql import SparkSession\n",
    "from pyspark.sql.types import *\n",
    "# create spark session\n",
    "spark = SparkSession \\\n",
    "    .builder \\\n",
    "    .appName(\"Pyspark Parquet\") \\\n",
    "    .getOrCreate()\n",
    "# create spark context\n",
    "sc = spark.sparkContext"
   ]
  },
  {
   "cell_type": "markdown",
   "metadata": {},
   "source": [
    "## Setup sample flattened data"
   ]
  },
  {
   "cell_type": "code",
   "execution_count": 3,
   "metadata": {},
   "outputs": [],
   "source": [
    "import random\n",
    "import uuid\n",
    "import json\n",
    "\n",
    "def gen_sample_acct():\n",
    "    return dict(acct_id=random.randint(1,99999999),acct_feature1=str(uuid.uuid4()))\n",
    "\n",
    "def gen_sample_app():\n",
    "    return dict(app_id=random.randint(1,99999999),app_feature1=str(uuid.uuid4()))\n",
    "\n",
    "def gen_sample_accounts(num_records):\n",
    "    accts = [gen_sample_acct() for i in range(num_records)]\n",
    "    return accts\n",
    "\n",
    "def gen_sample_apps(num_records):\n",
    "    apps = [gen_sample_app() for i in range(num_records)]\n",
    "    return apps\n",
    "\n",
    "def gen_sample_customers(num_records):\n",
    "    customers = [dict(cust_id=random.randint(1,99999999),\n",
    "                      cust_feature1=str(uuid.uuid4()),\n",
    "                      accts=gen_sample_accounts(num_records),\n",
    "                      apps=gen_sample_apps(num_records)\n",
    "                      ) for i in range(num_records)]\n",
    "    return customers\n",
    "\n",
    "def write_json(sample_dict, filename):\n",
    "    with open(filename, 'w') as f:\n",
    "        f.write(json.dumps(sample_dict))\n",
    "    return \"success\""
   ]
  },
  {
   "cell_type": "code",
   "execution_count": 4,
   "metadata": {},
   "outputs": [
    {
     "name": "stdout",
     "output_type": "stream",
     "text": [
      "-rw-r--r--  1 sharattadimalla  staff  16787 Nov 10 12:33 sample_data.json\n",
      "drwxr-xr-x  6 sharattadimalla  staff    192 Nov 10 11:43 sample_data.parquet\n"
     ]
    }
   ],
   "source": [
    "%%sh \n",
    "ls -lt | grep -i \"sample_data\""
   ]
  },
  {
   "cell_type": "code",
   "execution_count": 5,
   "metadata": {},
   "outputs": [
    {
     "data": {
      "text/plain": [
       "'success'"
      ]
     },
     "execution_count": 5,
     "metadata": {},
     "output_type": "execute_result"
    }
   ],
   "source": [
    "sample_accts = gen_sample_accounts(5)\n",
    "write_json(sample_accts, 'sample_accounts.json')"
   ]
  },
  {
   "cell_type": "code",
   "execution_count": 7,
   "metadata": {},
   "outputs": [
    {
     "name": "stdout",
     "output_type": "stream",
     "text": [
      "-rw-r--r--  1 sharattadimalla  staff    399 Nov 10 12:40 sample_accounts.json\n",
      "drwxr-xr-x  6 sharattadimalla  staff    192 Nov 10 12:36 sample_customer.parquet\n",
      "-rw-r--r--  1 sharattadimalla  staff  16787 Nov 10 12:35 sample_customers.json\n",
      "-rw-r--r--  1 sharattadimalla  staff  16787 Nov 10 12:33 sample_data.json\n",
      "drwxr-xr-x  6 sharattadimalla  staff    192 Nov 10 11:43 sample_data.parquet\n"
     ]
    }
   ],
   "source": [
    "%%sh \n",
    "ls -lt | grep -i \"sample_\""
   ]
  },
  {
   "cell_type": "markdown",
   "metadata": {},
   "source": [
    "## pyspark - Read json data and write parquet with flat structure"
   ]
  },
  {
   "cell_type": "code",
   "execution_count": 10,
   "metadata": {},
   "outputs": [],
   "source": [
    "df = spark.read.json('sample_accounts.json')"
   ]
  },
  {
   "cell_type": "code",
   "execution_count": 11,
   "metadata": {},
   "outputs": [
    {
     "name": "stdout",
     "output_type": "stream",
     "text": [
      "root\n",
      " |-- acct_feature1: string (nullable = true)\n",
      " |-- acct_id: long (nullable = true)\n",
      "\n"
     ]
    }
   ],
   "source": [
    "df.printSchema()"
   ]
  },
  {
   "cell_type": "code",
   "execution_count": 12,
   "metadata": {},
   "outputs": [
    {
     "name": "stdout",
     "output_type": "stream",
     "text": [
      "+--------------------+--------+\n",
      "|       acct_feature1| acct_id|\n",
      "+--------------------+--------+\n",
      "|e4986ed3-2fd8-4ab...|53294007|\n",
      "|64494600-776e-40a...| 6944675|\n",
      "+--------------------+--------+\n",
      "only showing top 2 rows\n",
      "\n"
     ]
    }
   ],
   "source": [
    "df.show(2)"
   ]
  },
  {
   "cell_type": "code",
   "execution_count": 24,
   "metadata": {},
   "outputs": [],
   "source": [
    "df.write.parquet('sample_accounts.parquet',mode='overwrite')"
   ]
  },
  {
   "cell_type": "code",
   "execution_count": 14,
   "metadata": {},
   "outputs": [
    {
     "name": "stdout",
     "output_type": "stream",
     "text": [
      "drwxr-xr-x  6 sharattadimalla  staff    192 Nov 10 12:42 sample_accounts.parquet\n",
      "-rw-r--r--  1 sharattadimalla  staff    399 Nov 10 12:40 sample_accounts.json\n",
      "drwxr-xr-x  6 sharattadimalla  staff    192 Nov 10 12:36 sample_customer.parquet\n",
      "-rw-r--r--  1 sharattadimalla  staff  16787 Nov 10 12:35 sample_customers.json\n",
      "-rw-r--r--  1 sharattadimalla  staff  16787 Nov 10 12:33 sample_data.json\n",
      "drwxr-xr-x  6 sharattadimalla  staff    192 Nov 10 11:43 sample_data.parquet\n"
     ]
    }
   ],
   "source": [
    "%%sh\n",
    "ls -lt | grep -i \"sample_\""
   ]
  },
  {
   "cell_type": "code",
   "execution_count": 15,
   "metadata": {},
   "outputs": [],
   "source": [
    "df2 = spark.read.parquet('sample_accounts.parquet')"
   ]
  },
  {
   "cell_type": "code",
   "execution_count": 16,
   "metadata": {},
   "outputs": [
    {
     "name": "stdout",
     "output_type": "stream",
     "text": [
      "root\n",
      " |-- acct_feature1: string (nullable = true)\n",
      " |-- acct_id: long (nullable = true)\n",
      "\n"
     ]
    }
   ],
   "source": [
    "df2.printSchema()"
   ]
  },
  {
   "cell_type": "markdown",
   "metadata": {},
   "source": [
    "## pyspark - write nested data"
   ]
  },
  {
   "cell_type": "code",
   "execution_count": 17,
   "metadata": {},
   "outputs": [
    {
     "data": {
      "text/plain": [
       "[{'cust_id': 24393450,\n",
       "  'cust_feature1': 'fc3dc303-cb35-4e24-a769-f7db16f35d5e',\n",
       "  'accts': [{'acct_id': 91715491,\n",
       "    'acct_feature1': '918f42dd-cdf4-4092-ae5d-1ad7c01b65a0'},\n",
       "   {'acct_id': 21356257,\n",
       "    'acct_feature1': '394d628f-2e3f-489d-aa85-54d10eeae063'},\n",
       "   {'acct_id': 84133290,\n",
       "    'acct_feature1': '8dcde694-9151-4644-a9b3-19d32d40e38e'},\n",
       "   {'acct_id': 70436822,\n",
       "    'acct_feature1': '35576bd7-a191-4ef1-b3a8-0e8318f62d8e'},\n",
       "   {'acct_id': 15791866,\n",
       "    'acct_feature1': '75c66f37-272f-4af5-90aa-683a3dc976ae'},\n",
       "   {'acct_id': 53113259,\n",
       "    'acct_feature1': '45771b29-be2e-49a6-96ba-a0f3acf0fc16'},\n",
       "   {'acct_id': 2201428,\n",
       "    'acct_feature1': '58e02aa1-1ac7-4cbc-b872-fa56d12853f7'},\n",
       "   {'acct_id': 70063115,\n",
       "    'acct_feature1': '28868f83-1d7c-40d8-9705-0d61c27268e4'},\n",
       "   {'acct_id': 43814088,\n",
       "    'acct_feature1': '22eb2e11-372c-41db-8046-97258570229a'},\n",
       "   {'acct_id': 4526149,\n",
       "    'acct_feature1': '82524507-c1c0-4638-bf83-fc181118c5d6'}],\n",
       "  'apps': [{'app_id': 63868287,\n",
       "    'app_feature1': '5759c19d-7429-4300-a658-c0f003766aa1'},\n",
       "   {'app_id': 66022723,\n",
       "    'app_feature1': '6cd76436-820b-4ace-a9f1-c514be299b0c'},\n",
       "   {'app_id': 17433463,\n",
       "    'app_feature1': '70072c60-55bd-4d4f-8d87-df8e313a224b'},\n",
       "   {'app_id': 70796189,\n",
       "    'app_feature1': '6b5cbbc0-1aab-42bf-b951-af94ebed6678'},\n",
       "   {'app_id': 41308100,\n",
       "    'app_feature1': 'dc3b98e6-e389-4bd7-b030-7abd47c8de44'},\n",
       "   {'app_id': 9780157, 'app_feature1': '46274f53-54a2-4602-b353-59b801366c12'},\n",
       "   {'app_id': 65719688,\n",
       "    'app_feature1': 'd84d106a-400e-4748-9332-9f48ac4d47b5'},\n",
       "   {'app_id': 74638608,\n",
       "    'app_feature1': '1a4cfff1-e6af-4f8b-901f-6b21c41345ac'},\n",
       "   {'app_id': 10808980,\n",
       "    'app_feature1': '190bff34-1050-4123-ab73-26b0a5e5135f'},\n",
       "   {'app_id': 71932355,\n",
       "    'app_feature1': '88db90f1-dfaf-4c9a-a7d4-d8a7f2070a83'}]},\n",
       " {'cust_id': 30060538,\n",
       "  'cust_feature1': 'afb22f3d-e0c9-4804-8278-73e04db2aa59',\n",
       "  'accts': [{'acct_id': 60523407,\n",
       "    'acct_feature1': 'e2d3283d-d014-4236-95d5-60728b89e7fb'},\n",
       "   {'acct_id': 20521082,\n",
       "    'acct_feature1': '543cbb3f-e780-4835-aaf2-33b4f7b73132'},\n",
       "   {'acct_id': 96609591,\n",
       "    'acct_feature1': 'ce1b2863-e3c6-4626-bd13-256577ca410b'},\n",
       "   {'acct_id': 65984888,\n",
       "    'acct_feature1': '701e34b8-8458-47ff-a8e8-88455acf37a0'},\n",
       "   {'acct_id': 61202246,\n",
       "    'acct_feature1': 'aa7ecf3a-01cb-477b-85fc-fbe74530cb95'},\n",
       "   {'acct_id': 72010756,\n",
       "    'acct_feature1': '0fc2f134-3426-4a84-9942-1df9ce47d8b7'},\n",
       "   {'acct_id': 26779364,\n",
       "    'acct_feature1': '5b642653-eb12-4baa-961e-e8882049d209'},\n",
       "   {'acct_id': 33474877,\n",
       "    'acct_feature1': '20d9f578-45d7-447a-b011-cf01470c9c2b'},\n",
       "   {'acct_id': 52283850,\n",
       "    'acct_feature1': '5b92dbd1-86d4-43c8-a910-4ba1e36e44fd'},\n",
       "   {'acct_id': 91068026,\n",
       "    'acct_feature1': 'c7b505f9-d8f6-4bc5-b567-9b4f2b7a9d2a'}],\n",
       "  'apps': [{'app_id': 76427570,\n",
       "    'app_feature1': '5f469988-95f1-4db0-8fe1-11d15ffe454a'},\n",
       "   {'app_id': 98965821,\n",
       "    'app_feature1': '7da3b3b0-d6d7-46b2-bca9-048836265f60'},\n",
       "   {'app_id': 32211699,\n",
       "    'app_feature1': '9b7397c4-4be7-4656-85f2-460458933e42'},\n",
       "   {'app_id': 77211041,\n",
       "    'app_feature1': 'fc2a5051-0be2-4007-939f-ca997c8fad26'},\n",
       "   {'app_id': 97908804,\n",
       "    'app_feature1': '06ab0c05-fc79-464d-9b9a-9f0f77430d19'},\n",
       "   {'app_id': 13236932,\n",
       "    'app_feature1': 'd5e015c0-374d-4824-9559-ff1e10f2ea2b'},\n",
       "   {'app_id': 30452188,\n",
       "    'app_feature1': 'bb757cab-6469-4942-9300-62285c17e65a'},\n",
       "   {'app_id': 3762160, 'app_feature1': '03557b97-2a05-4a7b-92e7-e79405788e6e'},\n",
       "   {'app_id': 88050084,\n",
       "    'app_feature1': 'a9571e3a-19ea-484a-9632-aef73ed09fcc'},\n",
       "   {'app_id': 36775631,\n",
       "    'app_feature1': '120bf354-eed7-40d4-9560-995fc0fa6597'}]},\n",
       " {'cust_id': 33580110,\n",
       "  'cust_feature1': '8abe0a68-42bd-41a9-9282-5d2643dc2da9',\n",
       "  'accts': [{'acct_id': 97949126,\n",
       "    'acct_feature1': '5a6bacbf-6624-490b-9e58-1d75a78fafcf'},\n",
       "   {'acct_id': 78384450,\n",
       "    'acct_feature1': '6d575852-fcda-42b9-b3eb-06e3fd3a5165'},\n",
       "   {'acct_id': 28239707,\n",
       "    'acct_feature1': '628f8fb1-cd8d-48ab-a517-c6fd84e34592'},\n",
       "   {'acct_id': 74309305,\n",
       "    'acct_feature1': '81f42d68-c380-4024-83f8-585805581d92'},\n",
       "   {'acct_id': 84136253,\n",
       "    'acct_feature1': '36b0498b-dff8-4f4e-891a-ac3e21954f4f'},\n",
       "   {'acct_id': 50572412,\n",
       "    'acct_feature1': 'e326f856-79ae-4050-abc7-a04b813256e8'},\n",
       "   {'acct_id': 20759774,\n",
       "    'acct_feature1': '9b46b411-f4cb-4763-95be-81dad23585e1'},\n",
       "   {'acct_id': 33577997,\n",
       "    'acct_feature1': '03a60a0e-669c-4eb6-8a96-9367206fc3ea'},\n",
       "   {'acct_id': 6846067,\n",
       "    'acct_feature1': '36e21b81-6c0b-49fc-9526-cb1ca752654a'},\n",
       "   {'acct_id': 60825413,\n",
       "    'acct_feature1': '88220b01-dead-4b93-a6d2-90b050dac37d'}],\n",
       "  'apps': [{'app_id': 32241617,\n",
       "    'app_feature1': '78974592-8cf5-437e-8576-b66c6e0bbd52'},\n",
       "   {'app_id': 78522046,\n",
       "    'app_feature1': 'b44738a7-3a5d-4094-9ecc-6bbc9859eb80'},\n",
       "   {'app_id': 49935461,\n",
       "    'app_feature1': '53325242-67ee-4b38-9a52-433272712d2a'},\n",
       "   {'app_id': 57319394,\n",
       "    'app_feature1': '7863cc6e-0cb4-4975-a6db-9e425ebaad14'},\n",
       "   {'app_id': 59984232,\n",
       "    'app_feature1': '4a1ff3ff-649c-4334-bb04-c3a984211bdd'},\n",
       "   {'app_id': 28994207,\n",
       "    'app_feature1': '94d40bf0-4776-4129-a0c7-a73ed1ea94e2'},\n",
       "   {'app_id': 93755819,\n",
       "    'app_feature1': 'f8d7b504-2f63-4ca7-bbe3-fc41021a27d5'},\n",
       "   {'app_id': 65416548,\n",
       "    'app_feature1': '04d50955-5986-4267-8bb5-96c3d6ddb8d1'},\n",
       "   {'app_id': 20758747,\n",
       "    'app_feature1': '0c22e8d3-a095-495b-a245-e95c5ece1b9a'},\n",
       "   {'app_id': 90186993,\n",
       "    'app_feature1': 'dc2c4e37-83b2-489d-b735-8ec00ae6ec0a'}]},\n",
       " {'cust_id': 1570154,\n",
       "  'cust_feature1': 'b6bef384-20ff-425c-b298-e6edd8acc761',\n",
       "  'accts': [{'acct_id': 22782773,\n",
       "    'acct_feature1': '381e43b0-cbe3-4358-bd77-e1ffbe99e050'},\n",
       "   {'acct_id': 7779644,\n",
       "    'acct_feature1': 'de1f9df7-3ba7-4465-9b2c-b0d2cf9e9ca4'},\n",
       "   {'acct_id': 39619526,\n",
       "    'acct_feature1': 'de6ceb44-ce1f-4d8b-8262-22e3329a002f'},\n",
       "   {'acct_id': 79511470,\n",
       "    'acct_feature1': '0de97fa8-de36-4b66-8ca5-1809ca273397'},\n",
       "   {'acct_id': 75029, 'acct_feature1': '5d487519-978c-4eda-bb52-f4f9a2087dd0'},\n",
       "   {'acct_id': 89573169,\n",
       "    'acct_feature1': '070309cc-6e89-46ca-a892-026bbe3dec67'},\n",
       "   {'acct_id': 93641870,\n",
       "    'acct_feature1': '4fae1b4d-8066-4d9d-85d6-46c9b5d5a253'},\n",
       "   {'acct_id': 26231494,\n",
       "    'acct_feature1': '8a9e64d2-c1ba-4be1-a925-0fb07e3e7479'},\n",
       "   {'acct_id': 73362663,\n",
       "    'acct_feature1': '497364d0-42ef-44f6-ada8-28b1373b0a03'},\n",
       "   {'acct_id': 4422230,\n",
       "    'acct_feature1': 'ba8af37e-6645-42c4-bdfb-85c789fd9753'}],\n",
       "  'apps': [{'app_id': 4193872,\n",
       "    'app_feature1': 'cda4d8bb-ef13-417d-be64-fe64fd725041'},\n",
       "   {'app_id': 23071102,\n",
       "    'app_feature1': '9388a13c-a9da-40bd-8ae1-4b2b429a058b'},\n",
       "   {'app_id': 31115494,\n",
       "    'app_feature1': '74107534-045f-4a48-bdff-44debfb15e1d'},\n",
       "   {'app_id': 34175931,\n",
       "    'app_feature1': '32c88325-65a0-44b0-ad4f-2518c6594018'},\n",
       "   {'app_id': 81967382,\n",
       "    'app_feature1': '9e91ad4c-cd2b-4625-bd7f-ad61fa0aad4c'},\n",
       "   {'app_id': 50342138,\n",
       "    'app_feature1': '41773a4c-b741-4a9a-8ffd-5d586a3f9096'},\n",
       "   {'app_id': 66232102,\n",
       "    'app_feature1': 'aaa8bbf6-5b64-4f37-9264-43506b113ec0'},\n",
       "   {'app_id': 85761842,\n",
       "    'app_feature1': 'e8d1888b-19d2-402a-835d-97b6e46b0f55'},\n",
       "   {'app_id': 89179551,\n",
       "    'app_feature1': '81c04d19-f81a-4571-a8cc-86c338208a52'},\n",
       "   {'app_id': 6246008,\n",
       "    'app_feature1': '489d25e6-50f0-405f-a5cc-16cba787d389'}]},\n",
       " {'cust_id': 48004070,\n",
       "  'cust_feature1': 'bc7567fd-5fbd-4906-9520-ba608687d226',\n",
       "  'accts': [{'acct_id': 88085097,\n",
       "    'acct_feature1': 'c0478f8d-2c45-473c-9d1e-412fc8666007'},\n",
       "   {'acct_id': 4349329,\n",
       "    'acct_feature1': 'a2796e29-13b8-46e8-b724-afc3fdaffe1b'},\n",
       "   {'acct_id': 20535693,\n",
       "    'acct_feature1': 'b26181fa-83f2-4c29-b2ac-dc84f107132f'},\n",
       "   {'acct_id': 96216455,\n",
       "    'acct_feature1': 'cc0407b8-1fb4-4882-b3e9-aefa2b2e40aa'},\n",
       "   {'acct_id': 41283797,\n",
       "    'acct_feature1': '7aa90f52-a621-40ca-b42b-fadf41722ed8'},\n",
       "   {'acct_id': 33701203,\n",
       "    'acct_feature1': '0344f9ca-23d5-4169-8ee5-e3f3b2259d82'},\n",
       "   {'acct_id': 65253029,\n",
       "    'acct_feature1': '88785a36-7ca4-4422-bdac-cf790a4b73bc'},\n",
       "   {'acct_id': 67615668,\n",
       "    'acct_feature1': 'd8b1643a-3b19-496c-9f34-1870e9668f44'},\n",
       "   {'acct_id': 20061097,\n",
       "    'acct_feature1': '74cd9902-7566-402c-a789-0f18698f6507'},\n",
       "   {'acct_id': 76023526,\n",
       "    'acct_feature1': 'c3f6d9e3-b458-4013-9b36-81fc8a06cab7'}],\n",
       "  'apps': [{'app_id': 71492712,\n",
       "    'app_feature1': '78c69004-d257-4472-b24e-e3cec0f162d3'},\n",
       "   {'app_id': 11038234,\n",
       "    'app_feature1': 'a17f204c-dba1-49e2-b325-58a5b76bf496'},\n",
       "   {'app_id': 34372770,\n",
       "    'app_feature1': '233c6861-d29a-4ddf-bff9-1c7d044957b4'},\n",
       "   {'app_id': 33742699,\n",
       "    'app_feature1': '3b52e40a-218b-4d14-8c7e-437cc0389a78'},\n",
       "   {'app_id': 34988867,\n",
       "    'app_feature1': 'ec14a8db-0b9d-4d4e-9cfc-d899609a84cd'},\n",
       "   {'app_id': 44364292,\n",
       "    'app_feature1': '1c7489a0-2e81-417b-9459-4f5b684274e2'},\n",
       "   {'app_id': 85205562,\n",
       "    'app_feature1': '337da26a-95b9-4fd8-88b1-fa4ace19fafe'},\n",
       "   {'app_id': 28389658,\n",
       "    'app_feature1': '1efb08c1-28d5-42b0-a8a0-129d48ab1ce9'},\n",
       "   {'app_id': 52180156,\n",
       "    'app_feature1': 'ea34d42e-fc35-4e20-9db7-868db36e1620'},\n",
       "   {'app_id': 72474674,\n",
       "    'app_feature1': 'e79e922c-57f1-40ec-aadb-2582d1bf1a7e'}]},\n",
       " {'cust_id': 80003204,\n",
       "  'cust_feature1': '45927563-1789-4c89-9071-0581203d5df8',\n",
       "  'accts': [{'acct_id': 2055445,\n",
       "    'acct_feature1': '5a9b76c8-1426-44f6-a184-cdf721af5ac7'},\n",
       "   {'acct_id': 52673667,\n",
       "    'acct_feature1': 'acf55c6a-e63c-41e9-aac5-f2ff8892effd'},\n",
       "   {'acct_id': 78159239,\n",
       "    'acct_feature1': '144a3b3d-de28-4c4b-a907-c2beb12b60b3'},\n",
       "   {'acct_id': 32737958,\n",
       "    'acct_feature1': '8c7d93a4-6fe2-42f9-a968-e982b6b9d3dc'},\n",
       "   {'acct_id': 325337,\n",
       "    'acct_feature1': 'f1cc22b7-2fe2-4442-89fd-8457b0c1cf88'},\n",
       "   {'acct_id': 74914282,\n",
       "    'acct_feature1': '3e229819-b532-4d9a-8d5b-7692ef06738a'},\n",
       "   {'acct_id': 1280947,\n",
       "    'acct_feature1': '32bf41d4-7322-4e0e-afe8-87de3cfd4241'},\n",
       "   {'acct_id': 23793158,\n",
       "    'acct_feature1': '9588fa66-bba1-4978-a276-200b03c2e2e5'},\n",
       "   {'acct_id': 43248340,\n",
       "    'acct_feature1': 'c80dbe3a-6bf9-488f-86a1-460f19655574'},\n",
       "   {'acct_id': 23335376,\n",
       "    'acct_feature1': '5b264f46-5671-4a1c-82c3-84bb2f10e2dc'}],\n",
       "  'apps': [{'app_id': 83180049,\n",
       "    'app_feature1': 'ffbfafdc-b8ab-4677-9271-48dae43c5b20'},\n",
       "   {'app_id': 68085077,\n",
       "    'app_feature1': '5996d1b0-0241-43e8-abb4-45d1f7f74317'},\n",
       "   {'app_id': 28905028,\n",
       "    'app_feature1': '2f476d4d-1bad-4f31-96e6-ccab6ceeef76'},\n",
       "   {'app_id': 24621532,\n",
       "    'app_feature1': '22f99699-e085-4229-9df5-1741c09cc6cd'},\n",
       "   {'app_id': 38670417,\n",
       "    'app_feature1': 'b472f908-1a99-4d1e-89c1-eb747e0e8a7f'},\n",
       "   {'app_id': 80020883,\n",
       "    'app_feature1': 'd627bdbe-2258-4824-94a2-7b6bb4e0768e'},\n",
       "   {'app_id': 53380540,\n",
       "    'app_feature1': '7d2bf61f-0c8d-4647-9e01-7205877c835d'},\n",
       "   {'app_id': 80385913,\n",
       "    'app_feature1': '72d004a5-dc4f-4c25-a17c-c161a06fb0af'},\n",
       "   {'app_id': 21781222,\n",
       "    'app_feature1': 'e8cc3cab-c293-4389-9558-d18d3f6683f3'},\n",
       "   {'app_id': 20619173,\n",
       "    'app_feature1': '6c8daa55-581c-4500-8537-d21b206dbb15'}]},\n",
       " {'cust_id': 436199,\n",
       "  'cust_feature1': 'd8861088-88bd-4b4d-9649-bf8158e41f0d',\n",
       "  'accts': [{'acct_id': 59553718,\n",
       "    'acct_feature1': '9096aeb2-6734-486d-99a8-be12ac47e388'},\n",
       "   {'acct_id': 676226,\n",
       "    'acct_feature1': '0c38f437-b43b-425f-8474-10104a01c6c2'},\n",
       "   {'acct_id': 36000552,\n",
       "    'acct_feature1': '14740178-5a59-4340-bb95-c6c574bee99f'},\n",
       "   {'acct_id': 70237926,\n",
       "    'acct_feature1': '0fca9f77-723a-46fd-87f7-d0b9f3ad2a79'},\n",
       "   {'acct_id': 60509811,\n",
       "    'acct_feature1': 'b352ee6d-122d-4012-a994-744afcab6d10'},\n",
       "   {'acct_id': 11445653,\n",
       "    'acct_feature1': '4049010a-1b23-4ebd-8ba1-0c3e752a25e3'},\n",
       "   {'acct_id': 95500712,\n",
       "    'acct_feature1': '1327b25c-4cba-457a-b1f5-f797287dc480'},\n",
       "   {'acct_id': 89938828,\n",
       "    'acct_feature1': '806f7c3f-eeb6-486e-9594-761aa93bbcad'},\n",
       "   {'acct_id': 44280605,\n",
       "    'acct_feature1': '60629c89-b618-4fb7-a629-34f7603100fe'},\n",
       "   {'acct_id': 40391724,\n",
       "    'acct_feature1': 'a1afc7fa-bb57-4471-8891-61733862832a'}],\n",
       "  'apps': [{'app_id': 77296266,\n",
       "    'app_feature1': '15beb73e-24b1-423c-a179-f98e33b92022'},\n",
       "   {'app_id': 36583852,\n",
       "    'app_feature1': '5dc9e8b7-ec0f-445f-a62c-a43f06f73dec'},\n",
       "   {'app_id': 72073231,\n",
       "    'app_feature1': 'd0f06e3a-d0c2-4a64-aafe-88bff15550a6'},\n",
       "   {'app_id': 3115076, 'app_feature1': '3850cc88-5eb4-4ae0-bd3e-7e287267215a'},\n",
       "   {'app_id': 53123927,\n",
       "    'app_feature1': '5af96fa4-3fe7-4c43-86d4-60df0488c819'},\n",
       "   {'app_id': 20440227,\n",
       "    'app_feature1': '8511d94c-15b2-4f28-8f25-b998aa6fa49f'},\n",
       "   {'app_id': 76984870,\n",
       "    'app_feature1': '7798c462-c51c-41b2-b565-3b5bdd359896'},\n",
       "   {'app_id': 25191500,\n",
       "    'app_feature1': '7c1fb349-baed-48e5-9de1-97a97521db94'},\n",
       "   {'app_id': 49393725,\n",
       "    'app_feature1': '6582b786-5d60-4473-ad97-28a823200e76'},\n",
       "   {'app_id': 52925149,\n",
       "    'app_feature1': 'b7d90a67-d01c-408b-a014-1b1ab92491d8'}]},\n",
       " {'cust_id': 65814411,\n",
       "  'cust_feature1': '574c658d-5ad9-4f49-933e-4829b91228f3',\n",
       "  'accts': [{'acct_id': 67554900,\n",
       "    'acct_feature1': '94f6f06a-23ef-4bac-88dc-d6a9c3185cd6'},\n",
       "   {'acct_id': 89377461,\n",
       "    'acct_feature1': 'db09b0f6-5217-4bb2-9956-9e986ce2ee1f'},\n",
       "   {'acct_id': 23201904,\n",
       "    'acct_feature1': 'bf4381be-fedc-43d7-9df7-4446641d9565'},\n",
       "   {'acct_id': 47467384,\n",
       "    'acct_feature1': 'ccc67a83-afd1-43b5-b1c4-a209a67b39e5'},\n",
       "   {'acct_id': 48336463,\n",
       "    'acct_feature1': 'cfd9796f-692a-4599-8719-247ef229fd35'},\n",
       "   {'acct_id': 66660533,\n",
       "    'acct_feature1': '1015032a-8c65-4c91-a672-2ce20418e14f'},\n",
       "   {'acct_id': 74215650,\n",
       "    'acct_feature1': '55ead485-70fd-4f65-a089-2aca59efc5fe'},\n",
       "   {'acct_id': 13625612,\n",
       "    'acct_feature1': '508dd174-1db0-4540-90bc-c05fbe2a8127'},\n",
       "   {'acct_id': 12083550,\n",
       "    'acct_feature1': '9d574517-e580-4258-bf7d-b36f0a6c21e2'},\n",
       "   {'acct_id': 13105421,\n",
       "    'acct_feature1': 'dbe9d071-c46d-482e-b7f7-ed414b8d72d0'}],\n",
       "  'apps': [{'app_id': 41337289,\n",
       "    'app_feature1': '0df340a6-b8cf-4136-a4f1-1622239106f7'},\n",
       "   {'app_id': 53995332,\n",
       "    'app_feature1': 'df346dac-31fd-4682-a7ae-58954394e2c2'},\n",
       "   {'app_id': 61244991,\n",
       "    'app_feature1': '151e919e-6429-4021-9be4-3b702c0c71ed'},\n",
       "   {'app_id': 59210502,\n",
       "    'app_feature1': '08495b55-5146-42a7-b5f2-3a16846f2f67'},\n",
       "   {'app_id': 40434620,\n",
       "    'app_feature1': 'bb29c1c4-8369-496f-94f6-459b2dd059a9'},\n",
       "   {'app_id': 87497156,\n",
       "    'app_feature1': '20f30946-1d46-4a7b-ae54-c9142661476c'},\n",
       "   {'app_id': 68587620,\n",
       "    'app_feature1': '3f8d4dee-f705-4078-b26a-1f8d56301abe'},\n",
       "   {'app_id': 16800572,\n",
       "    'app_feature1': 'b782e678-8211-4629-bb98-16f14fe13231'},\n",
       "   {'app_id': 56394141,\n",
       "    'app_feature1': 'cb4132b4-763f-41a7-8550-46b98253dcc1'},\n",
       "   {'app_id': 47492788,\n",
       "    'app_feature1': '97a39f02-721e-4db5-a9db-6c48a2c397d8'}]},\n",
       " {'cust_id': 13915666,\n",
       "  'cust_feature1': '59063fa9-0fbc-480d-8742-2f73c1fc1523',\n",
       "  'accts': [{'acct_id': 5971515,\n",
       "    'acct_feature1': 'bfd5433a-f890-44f9-b78f-344e8a958c50'},\n",
       "   {'acct_id': 35030920,\n",
       "    'acct_feature1': '245b6029-c348-49c8-82a3-f9d98b44b89a'},\n",
       "   {'acct_id': 11260205,\n",
       "    'acct_feature1': '73e64624-83e9-4640-be69-5454c5ff38d5'},\n",
       "   {'acct_id': 85780350,\n",
       "    'acct_feature1': '8688516b-e2b2-40c0-b44d-06d796580601'},\n",
       "   {'acct_id': 39659254,\n",
       "    'acct_feature1': '49e58596-2403-49e0-9f50-168992ffb326'},\n",
       "   {'acct_id': 38527096,\n",
       "    'acct_feature1': '4a68f035-ad48-4993-a502-6a869029c46f'},\n",
       "   {'acct_id': 8787599,\n",
       "    'acct_feature1': '1bec74f2-a0bc-4a6c-ad5e-e1e5560ff9e3'},\n",
       "   {'acct_id': 84763510,\n",
       "    'acct_feature1': 'bddf5abe-30f3-449d-8e70-7e5a34640f54'},\n",
       "   {'acct_id': 35501749,\n",
       "    'acct_feature1': 'e978d168-d48a-466b-b737-fb166188642f'},\n",
       "   {'acct_id': 24440122,\n",
       "    'acct_feature1': 'f8d75ccd-0e81-42eb-ae25-d9eed68d78f3'}],\n",
       "  'apps': [{'app_id': 99204795,\n",
       "    'app_feature1': 'bbdda51f-f52a-4cfc-889a-09d95e4b5d54'},\n",
       "   {'app_id': 93514714,\n",
       "    'app_feature1': '3719c857-5572-49b8-85ea-606a318b42b9'},\n",
       "   {'app_id': 63498218,\n",
       "    'app_feature1': '736f9016-347e-4172-8826-c7778fd71858'},\n",
       "   {'app_id': 37301548,\n",
       "    'app_feature1': 'dbf087fc-5614-4c01-ba2d-54a4e5c232e5'},\n",
       "   {'app_id': 62121789,\n",
       "    'app_feature1': 'a5e7107b-e411-4912-a1ee-ffa3358c07e3'},\n",
       "   {'app_id': 53264891,\n",
       "    'app_feature1': '4e2bfe84-d6eb-45f7-87f7-07b8a94429bc'},\n",
       "   {'app_id': 92095964,\n",
       "    'app_feature1': '55c2e81e-35fa-4a54-b654-6ba875cf78f4'},\n",
       "   {'app_id': 48049300,\n",
       "    'app_feature1': 'db321c48-ac10-42f1-8ff9-5c94714a909b'},\n",
       "   {'app_id': 50923759,\n",
       "    'app_feature1': 'cb395563-6460-49a7-bad0-e41d1a6cc23c'},\n",
       "   {'app_id': 71297530,\n",
       "    'app_feature1': '7052f0bd-4f33-4ba6-bffb-d97c222eb5e4'}]},\n",
       " {'cust_id': 61006657,\n",
       "  'cust_feature1': 'ec6a27dd-c1b4-4fc9-8f97-6d801f738b77',\n",
       "  'accts': [{'acct_id': 98463920,\n",
       "    'acct_feature1': '47b75681-01f0-43a1-86a9-4a3ab9a3b1f5'},\n",
       "   {'acct_id': 89518372,\n",
       "    'acct_feature1': '5d94834c-37e1-4b2e-bf51-503eca78b70e'},\n",
       "   {'acct_id': 61381740,\n",
       "    'acct_feature1': 'f6d6c057-0483-4451-b709-5aae63c788b0'},\n",
       "   {'acct_id': 16378825,\n",
       "    'acct_feature1': '18ccaaac-e51e-467c-9cc4-1edc66797b0f'},\n",
       "   {'acct_id': 6459930,\n",
       "    'acct_feature1': '1ef523c8-7241-4695-b97f-22ce4ed2ac40'},\n",
       "   {'acct_id': 30026418,\n",
       "    'acct_feature1': 'f8be6306-575f-4e34-848e-7ff9c0177979'},\n",
       "   {'acct_id': 96886959,\n",
       "    'acct_feature1': '8d1d2909-15de-4114-9eb1-a128f028d38a'},\n",
       "   {'acct_id': 24366905,\n",
       "    'acct_feature1': 'fdf53aa8-bb8c-48f1-8ec7-16f3dcab04de'},\n",
       "   {'acct_id': 46645683,\n",
       "    'acct_feature1': 'd5df2dad-2342-4c37-9425-fb226d727594'},\n",
       "   {'acct_id': 58780058,\n",
       "    'acct_feature1': '2b67654c-bb7d-4223-af8f-035ac7417a5d'}],\n",
       "  'apps': [{'app_id': 80401209,\n",
       "    'app_feature1': 'e8179cde-e317-4cf8-b768-42f51f160dbd'},\n",
       "   {'app_id': 22317549,\n",
       "    'app_feature1': 'c5d5184f-00e9-4e69-aa9c-dec702f5561c'},\n",
       "   {'app_id': 73891414,\n",
       "    'app_feature1': 'eb705a2b-e036-4620-8f08-e1634627b325'},\n",
       "   {'app_id': 75905207,\n",
       "    'app_feature1': 'c7ea89cd-5cf5-411c-9e55-e99309e0fe04'},\n",
       "   {'app_id': 63280409,\n",
       "    'app_feature1': 'eb8df241-e0ac-4112-9bf8-22345476aebc'},\n",
       "   {'app_id': 85038076,\n",
       "    'app_feature1': '566324fe-1df4-4b27-8125-45f20c1bba5f'},\n",
       "   {'app_id': 83164451,\n",
       "    'app_feature1': '04413964-9fd2-4bae-aca9-1b1ce65d19bf'},\n",
       "   {'app_id': 14578676,\n",
       "    'app_feature1': '3352df81-50cb-4322-9441-5e4298c6f3e4'},\n",
       "   {'app_id': 95106461,\n",
       "    'app_feature1': 'c674eb5f-1edc-4f4a-a835-b6e953d46165'},\n",
       "   {'app_id': 29530189,\n",
       "    'app_feature1': '1e45fee5-f378-43c6-beca-9f04b22a85be'}]}]"
      ]
     },
     "execution_count": 17,
     "metadata": {},
     "output_type": "execute_result"
    }
   ],
   "source": [
    "sample_customers = gen_sample_customers(10)\n",
    "sample_customers"
   ]
  },
  {
   "cell_type": "code",
   "execution_count": 18,
   "metadata": {},
   "outputs": [
    {
     "data": {
      "text/plain": [
       "'success'"
      ]
     },
     "execution_count": 18,
     "metadata": {},
     "output_type": "execute_result"
    }
   ],
   "source": [
    "write_json(sample_customers, 'sample_customers.json')"
   ]
  },
  {
   "cell_type": "code",
   "execution_count": 19,
   "metadata": {},
   "outputs": [],
   "source": [
    "df4 = spark.read.json('sample_customers.json')"
   ]
  },
  {
   "cell_type": "code",
   "execution_count": 20,
   "metadata": {},
   "outputs": [
    {
     "name": "stdout",
     "output_type": "stream",
     "text": [
      "root\n",
      " |-- accts: array (nullable = true)\n",
      " |    |-- element: struct (containsNull = true)\n",
      " |    |    |-- acct_feature1: string (nullable = true)\n",
      " |    |    |-- acct_id: long (nullable = true)\n",
      " |-- apps: array (nullable = true)\n",
      " |    |-- element: struct (containsNull = true)\n",
      " |    |    |-- app_feature1: string (nullable = true)\n",
      " |    |    |-- app_id: long (nullable = true)\n",
      " |-- cust_feature1: string (nullable = true)\n",
      " |-- cust_id: long (nullable = true)\n",
      "\n"
     ]
    }
   ],
   "source": [
    "df4.printSchema()"
   ]
  },
  {
   "cell_type": "code",
   "execution_count": 21,
   "metadata": {},
   "outputs": [
    {
     "name": "stdout",
     "output_type": "stream",
     "text": [
      "+--------------------+--------------------+--------------------+--------+\n",
      "|               accts|                apps|       cust_feature1| cust_id|\n",
      "+--------------------+--------------------+--------------------+--------+\n",
      "|[[918f42dd-cdf4-4...|[[5759c19d-7429-4...|fc3dc303-cb35-4e2...|24393450|\n",
      "|[[e2d3283d-d014-4...|[[5f469988-95f1-4...|afb22f3d-e0c9-480...|30060538|\n",
      "|[[5a6bacbf-6624-4...|[[78974592-8cf5-4...|8abe0a68-42bd-41a...|33580110|\n",
      "|[[381e43b0-cbe3-4...|[[cda4d8bb-ef13-4...|b6bef384-20ff-425...| 1570154|\n",
      "|[[c0478f8d-2c45-4...|[[78c69004-d257-4...|bc7567fd-5fbd-490...|48004070|\n",
      "+--------------------+--------------------+--------------------+--------+\n",
      "only showing top 5 rows\n",
      "\n"
     ]
    }
   ],
   "source": [
    "df4.show(5)"
   ]
  },
  {
   "cell_type": "code",
   "execution_count": 23,
   "metadata": {},
   "outputs": [],
   "source": [
    "df4.write.parquet('sample_customer.parquet', mode='overwrite')"
   ]
  },
  {
   "cell_type": "code",
   "execution_count": 25,
   "metadata": {},
   "outputs": [
    {
     "name": "stdout",
     "output_type": "stream",
     "text": [
      "drwxr-xr-x  6 sharattadimalla  staff    192 Nov 10 12:43 sample_customer.parquet\n",
      "-rw-r--r--  1 sharattadimalla  staff  16784 Nov 10 12:42 sample_customers.json\n"
     ]
    }
   ],
   "source": [
    "%%sh\n",
    "ls -lt | grep -i \"sample_customer\""
   ]
  },
  {
   "cell_type": "code",
   "execution_count": 26,
   "metadata": {},
   "outputs": [],
   "source": [
    "df5 = spark.read.parquet('sample_customer.parquet')"
   ]
  },
  {
   "cell_type": "code",
   "execution_count": 27,
   "metadata": {},
   "outputs": [
    {
     "name": "stdout",
     "output_type": "stream",
     "text": [
      "root\n",
      " |-- accts: array (nullable = true)\n",
      " |    |-- element: struct (containsNull = true)\n",
      " |    |    |-- acct_feature1: string (nullable = true)\n",
      " |    |    |-- acct_id: long (nullable = true)\n",
      " |-- apps: array (nullable = true)\n",
      " |    |-- element: struct (containsNull = true)\n",
      " |    |    |-- app_feature1: string (nullable = true)\n",
      " |    |    |-- app_id: long (nullable = true)\n",
      " |-- cust_feature1: string (nullable = true)\n",
      " |-- cust_id: long (nullable = true)\n",
      "\n"
     ]
    }
   ],
   "source": [
    "df5.printSchema()"
   ]
  },
  {
   "cell_type": "code",
   "execution_count": 28,
   "metadata": {},
   "outputs": [
    {
     "name": "stdout",
     "output_type": "stream",
     "text": [
      "+--------------------+--------------------+--------------------+--------+\n",
      "|               accts|                apps|       cust_feature1| cust_id|\n",
      "+--------------------+--------------------+--------------------+--------+\n",
      "|[[918f42dd-cdf4-4...|[[5759c19d-7429-4...|fc3dc303-cb35-4e2...|24393450|\n",
      "|[[e2d3283d-d014-4...|[[5f469988-95f1-4...|afb22f3d-e0c9-480...|30060538|\n",
      "|[[5a6bacbf-6624-4...|[[78974592-8cf5-4...|8abe0a68-42bd-41a...|33580110|\n",
      "|[[381e43b0-cbe3-4...|[[cda4d8bb-ef13-4...|b6bef384-20ff-425...| 1570154|\n",
      "|[[c0478f8d-2c45-4...|[[78c69004-d257-4...|bc7567fd-5fbd-490...|48004070|\n",
      "+--------------------+--------------------+--------------------+--------+\n",
      "only showing top 5 rows\n",
      "\n"
     ]
    }
   ],
   "source": [
    "df5.show(5)"
   ]
  },
  {
   "cell_type": "code",
   "execution_count": null,
   "metadata": {},
   "outputs": [],
   "source": []
  }
 ],
 "metadata": {
  "kernelspec": {
   "display_name": "Python 3",
   "language": "python",
   "name": "python3"
  },
  "language_info": {
   "codemirror_mode": {
    "name": "ipython",
    "version": 3
   },
   "file_extension": ".py",
   "mimetype": "text/x-python",
   "name": "python",
   "nbconvert_exporter": "python",
   "pygments_lexer": "ipython3",
   "version": "3.7.0"
  }
 },
 "nbformat": 4,
 "nbformat_minor": 2
}

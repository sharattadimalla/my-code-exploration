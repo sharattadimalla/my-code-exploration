{
 "cells": [
  {
   "cell_type": "markdown",
   "metadata": {},
   "source": [
    "## What is the difference between Spark Session and Spark Context?\n",
    "\n",
    "* Spark Session is a unified entry point to access all of spark functionality post Spark 2.0. \n",
    "* Prior to Spark 2.0, Spark Context was the main entry point and to access SQL or Hive metastores, developers were \n",
    "required to create SQLContext or HiveContext"
   ]
  },
  {
   "cell_type": "markdown",
   "metadata": {},
   "source": [
    "## What are the different ways through which we can create Spark Dataframes?\n",
    "\n",
    "* existing RDD\n",
    "* loading external data \n",
    "* using Hive tables"
   ]
  },
  {
   "cell_type": "code",
   "execution_count": null,
   "metadata": {},
   "outputs": [],
   "source": []
  }
 ],
 "metadata": {
  "kernelspec": {
   "display_name": "Python 3",
   "language": "python",
   "name": "python3"
  },
  "language_info": {
   "codemirror_mode": {
    "name": "ipython",
    "version": 3
   },
   "file_extension": ".py",
   "mimetype": "text/x-python",
   "name": "python",
   "nbconvert_exporter": "python",
   "pygments_lexer": "ipython3",
   "version": "3.7.6"
  }
 },
 "nbformat": 4,
 "nbformat_minor": 2
}
